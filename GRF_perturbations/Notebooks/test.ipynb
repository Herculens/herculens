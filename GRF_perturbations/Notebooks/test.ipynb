{
 "cells": [
  {
   "cell_type": "code",
   "execution_count": null,
   "outputs": [],
   "source": [
    "#Notebook's settings\n",
    "from IPython.core.display import display, HTML\n",
    "display(HTML(\"<style>.container { width:100% !important; }</style>\"))\n",
    "\n",
    "#from jupyterthemes import jtplot\n",
    "#jtplot.reset()\n",
    "\n",
    "# Plotting\n",
    "\n",
    "import sys\n",
    "Folder='/Users/egordanilov/Desktop/Lesta_shared/GRF_strong_lensing/jax-strong-lensing/'\n",
    "sys.path.append(Folder)\n",
    "\n",
    "import matplotlib.pyplot as plt\n",
    "import matplotlib as mpl\n",
    "import seaborn as sns\n",
    "#%matplotlib inline\n",
    "plt.style.use('default')\n",
    "\n",
    "\n",
    "# Basic imports\n",
    "import numpy as np\n",
    "from copy import deepcopy\n",
    "import pandas as pd\n",
    "from tqdm import tqdm\n",
    "import math\n",
    "import time\n",
    "import scipy as sc\n",
    "\n",
    "#JAX\n",
    "import jax\n",
    "import jax.numpy as jnp\n",
    "from jax.config import config\n",
    "config.update(\"jax_enable_x64\", True)\n",
    "config.update(\"jax_debug_nans\", True)\n",
    "\n",
    "from GRF_perturbations.Modules.GRF_inhomogeneities_class import *\n",
    "from GRF_perturbations.Modules.Surface_Brightness_class import Surface_brightness_class\n",
    "from GRF_perturbations.Modules.Utils import scipy_fit_Surface_Brightness,jax_map\n",
    "from GRF_perturbations.Modules.Inference_class import Inference_class\n",
    "\n",
    "import os\n",
    "os.environ[\"XLA_FLAGS\"] = \"--xla_force_host_platform_device_count=%d\"%(8)\n",
    "\n",
    "#Fontsize\n",
    "FS=18"
   ],
   "metadata": {
    "collapsed": false,
    "pycharm": {
     "name": "#%%\n"
    }
   }
  },
  {
   "cell_type": "markdown",
   "source": [
    "# Test Inference"
   ],
   "metadata": {
    "collapsed": false
   }
  },
  {
   "cell_type": "code",
   "execution_count": null,
   "outputs": [],
   "source": [
    "GRF_class=GRF_inhomogeneities_class(100, 0.08, 400)\n",
    "Surface_brightness=Surface_brightness_class(100,0.08,0.1,200,2028)\n",
    "Inference=Inference_class(GRF_class,Surface_brightness,Grad_descent_max_iter=2)"
   ],
   "metadata": {
    "collapsed": false,
    "pycharm": {
     "name": "#%%\n"
    }
   }
  },
  {
   "cell_type": "code",
   "execution_count": null,
   "outputs": [],
   "source": [
    "data_spec=Inference.Anomalies_Radial_Power_Spectrum([-7.8, 2],GRF_class.tensor_unit_Fourier_images[0])\n",
    "plt.loglog(Surface_brightness.frequencies,data_spec)"
   ],
   "metadata": {
    "collapsed": false,
    "pycharm": {
     "name": "#%%\n"
    }
   }
  },
  {
   "cell_type": "markdown",
   "source": [
    "## Optimization of GRF power spectrum"
   ],
   "metadata": {
    "collapsed": false
   }
  },
  {
   "cell_type": "code",
   "execution_count": null,
   "outputs": [],
   "source": [
    "import time\n",
    "def Spectra_Loss_Chi_sq(model_spectra,data_spectrum,Number_of_spectra):\n",
    "\n",
    "    data_log_spectrum=jnp.log(data_spectrum)\n",
    "    models_log_spectra=jnp.log(model_spectra)\n",
    "\n",
    "    Mean_logN=models_log_spectra.mean(axis=-2)\n",
    "    Sigma_logN=jnp.sqrt(jnp.power(models_log_spectra-Mean_logN,2).sum(axis=-2)/(Number_of_spectra-1))\n",
    "\n",
    "    #Chi^2 loss for Normal likelihood of log(Power_spectrum)\n",
    "    return jnp.mean(jnp.power((data_log_spectrum - Mean_logN)/Sigma_logN, 2), axis=-1)"
   ],
   "metadata": {
    "collapsed": false,
    "pycharm": {
     "name": "#%%\n"
    }
   }
  },
  {
   "cell_type": "code",
   "execution_count": null,
   "outputs": [],
   "source": [
    "Number_of_spectra=400\n",
    "Spectra_Loss_function=lambda model_spectra: Spectra_Loss_Chi_sq(model_spectra,data_spec,Number_of_spectra)\n",
    "GRF_Loss=jax.jit(lambda GRF_params: Inference.GRF_Power_Spectrum_Loss(GRF_params,Number_of_spectra,Spectra_Loss_function,fit_image=False))\n",
    "GRF_grad_Loss=jax.jit(jax.grad(GRF_Loss))\n",
    "GRF_hessian_Loss=jax.jit(jax.jacfwd(jax.jacrev(GRF_Loss)))"
   ],
   "metadata": {
    "collapsed": false,
    "pycharm": {
     "name": "#%%\n"
    }
   }
  },
  {
   "cell_type": "code",
   "execution_count": null,
   "outputs": [],
   "source": [
    "start_time=time.time()\n",
    "print('loss',GRF_Loss([-7.6,2.]),'time',time.time()-start_time)"
   ],
   "metadata": {
    "collapsed": false,
    "pycharm": {
     "name": "#%%\n"
    }
   }
  },
  {
   "cell_type": "code",
   "execution_count": null,
   "outputs": [],
   "source": [
    "start_time=time.time()\n",
    "print('grads',GRF_grad_Loss([-7.6,2.]),'time',time.time()-start_time)"
   ],
   "metadata": {
    "collapsed": false,
    "pycharm": {
     "name": "#%%\n"
    }
   }
  },
  {
   "cell_type": "code",
   "execution_count": null,
   "outputs": [],
   "source": [
    "start_time=time.time()\n",
    "print('grads',GRF_hessian_Loss([-7.6,2.]),'time',time.time()-start_time)"
   ],
   "metadata": {
    "collapsed": false,
    "pycharm": {
     "name": "#%%\n"
    }
   }
  },
  {
   "cell_type": "code",
   "execution_count": null,
   "outputs": [],
   "source": [
    "import scipy\n",
    "Nfeval = 1\n",
    "history=np.zeros((0,2))\n",
    "loss_history=np.zeros(0)\n",
    "bounds=((-10.075, -6.9), (0., 4.7))\n",
    "initial_args=[-10.,3.]\n",
    "\n",
    "def callbackF_trust_constr(Xi,optimizer):\n",
    "    global Nfeval\n",
    "    global history\n",
    "    global loss_history\n",
    "\n",
    "    if Nfeval==1:\n",
    "        print(' step      logA        Beta        Loss       dL/dlA        dL/dB')\n",
    "\n",
    "    loss=GRF_Loss(Xi)\n",
    "    grad=GRF_grad_Loss(Xi)\n",
    "    print('{0:4d}      {1:3.3f}      {2: 3.3f}      {3: 3.3f}      {4: 3.3f}      {5: 3.3f}'.format(Nfeval, Xi[0], Xi[1], loss,grad[0],grad[1]))\n",
    "\n",
    "    Nfeval += 1\n",
    "    loss_history=np.append(loss_history,optimizer.fun)\n",
    "    history=np.append(history,[Xi],axis=0)\n",
    "\n",
    "res=scipy.optimize.minimize(GRF_Loss,initial_args,method='trust-constr',jac=GRF_grad_Loss,hess=GRF_hessian_Loss,\n",
    "                            bounds=bounds,options={'disp': True},callback=callbackF_trust_constr,tol=0.001)"
   ],
   "metadata": {
    "collapsed": false,
    "pycharm": {
     "name": "#%%\n"
    }
   }
  },
  {
   "cell_type": "code",
   "execution_count": null,
   "outputs": [],
   "source": [
    "getter_SB_Anomalies_spectra=jax.jit(lambda unit_Fourier_image: Inference.Anomalies_Radial_Power_Spectrum(res.x,unit_Fourier_image, Noise_flag=True,fit_image=False))\n",
    "SB_Anomalies_spectra=jax_map(getter_SB_Anomalies_spectra,GRF_class.tensor_unit_Fourier_images)\n",
    "\n",
    "Mean_logN=np.log(SB_Anomalies_spectra).mean(axis=-2)\n",
    "Sigma_logN=jnp.sqrt(jnp.power(np.log(SB_Anomalies_spectra)-Mean_logN,2).sum(axis=-2)/(len(SB_Anomalies_spectra)-1))"
   ],
   "metadata": {
    "collapsed": false,
    "pycharm": {
     "name": "#%%\n"
    }
   }
  },
  {
   "cell_type": "code",
   "execution_count": null,
   "outputs": [],
   "source": [
    "fig,ax=plt.subplots(2,1,figsize=(10,7),sharex=True)\n",
    "ax[0].plot(Surface_brightness.frequencies,np.log(data_spec),label='data')\n",
    "ax[0].errorbar(Surface_brightness.frequencies,Mean_logN,Sigma_logN,capsize=2,label='model')\n",
    "ax[0].set_ylabel('Power')\n",
    "ax[0].set_xscale('log')\n",
    "ax[0].legend(loc='lower left')\n",
    "\n",
    "Chi_sq=jnp.power((np.log(data_spec)-Mean_logN)/Sigma_logN,2)*np.sign(np.log(data_spec)-Mean_logN)\n",
    "ax[1].plot(Surface_brightness.frequencies,Chi_sq,label='Residuals')\n",
    "ax[1].errorbar(Surface_brightness.frequencies,np.zeros_like(Chi_sq),np.ones_like(Chi_sq),capsize=2,alpha=0.5,label='Model')\n",
    "ax[1].set_xscale('log')\n",
    "ax[1].set_xlabel('log(Frequency), '+r'$arcsec^{-1}$')\n",
    "ax[1].set_ylabel(r'$\\chi^2$')\n",
    "ax[1].legend(loc='lower left')\n",
    "\n",
    "fig.suptitle('Fit results',fontsize=FS)\n",
    "plt.show()"
   ],
   "metadata": {
    "collapsed": false,
    "pycharm": {
     "name": "#%%\n"
    }
   }
  },
  {
   "cell_type": "code",
   "execution_count": null,
   "outputs": [],
   "source": [
    "hessian=GRF_hessian_Loss(res.x)\n",
    "fisher_matrix = jnp.linalg.inv(hessian)"
   ],
   "metadata": {
    "collapsed": false,
    "pycharm": {
     "name": "#%%\n"
    }
   }
  },
  {
   "cell_type": "code",
   "execution_count": null,
   "outputs": [],
   "source": [
    "sqrt_fisher_matrix = np.sqrt(np.abs(fisher_matrix)) * np.sign(fisher_matrix)\n",
    "plt.title(\"sqrt(Fisher matrix) (signed)\", fontsize=FS)\n",
    "plt.imshow(sqrt_fisher_matrix, cmap='bwr', vmin=-np.abs(sqrt_fisher_matrix).max(), vmax=np.abs(sqrt_fisher_matrix).max())\n",
    "plt.xticks(range(2), ['logA',r'$\\beta$'], rotation='vertical', fontsize=12)\n",
    "plt.yticks(range(2), ['logA',r'$\\beta$'], rotation='horizontal', fontsize=12)\n",
    "plt.colorbar(label=\"parameter standard deviation\")\n",
    "plt.show()"
   ],
   "metadata": {
    "collapsed": false,
    "pycharm": {
     "name": "#%%\n"
    }
   }
  },
  {
   "cell_type": "code",
   "execution_count": 42,
   "outputs": [
    {
     "data": {
      "text/plain": "<Figure size 1000x1000 with 4 Axes>",
      "image/png": "[encoded data removed]"
     },
     "metadata": {},
     "output_type": "display_data"
    }
   ],
   "source": [
    "import corner\n",
    "def draw_from_gaussian(mu, S, ndraws=1):\n",
    "    ndim = len(mu)\n",
    "    r = np.random.multivariate_normal(mu, S, size=ndraws)\n",
    "    return r\n",
    "\n",
    "samples_fisher = draw_from_gaussian(res.x, fisher_matrix, ndraws=10000)\n",
    "\n",
    "fig = plt.figure(figsize=(10, 10))\n",
    "fig = corner.corner(samples_fisher, truths=[-7.8,2.], show_titles=False, labels=['logA',r'$\\beta$'],\n",
    "                    fig=fig, title_kwargs={'fontsize': 14}, label_kwargs={'fontsize': 14})\n",
    "plt.show()"
   ],
   "metadata": {
    "collapsed": false,
    "pycharm": {
     "name": "#%%\n"
    }
   }
  },
  {
   "cell_type": "code",
   "execution_count": null,
   "outputs": [],
   "source": [],
   "metadata": {
    "collapsed": false,
    "pycharm": {
     "name": "#%%\n"
    }
   }
  }
 ],
 "metadata": {
  "kernelspec": {
   "display_name": "Python 3 (ipykernel)",
   "language": "python",
   "name": "python3"
  },
  "language_info": {
   "codemirror_mode": {
    "name": "ipython",
    "version": 3
   },
   "file_extension": ".py",
   "mimetype": "text/x-python",
   "name": "python",
   "nbconvert_exporter": "python",
   "pygments_lexer": "ipython3",
   "version": "3.8.12"
  }
 },
 "nbformat": 4,
 "nbformat_minor": 5
}